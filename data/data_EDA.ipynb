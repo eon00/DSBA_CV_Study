{
 "cells": [
  {
   "cell_type": "markdown",
   "metadata": {},
   "source": [
    "Data Download"
   ]
  },
  {
   "cell_type": "code",
   "execution_count": null,
   "metadata": {},
   "outputs": [
    {
     "data": {
      "text/plain": [
       "['/home/sieon/Desktop/VIT/data/data/test_data.npy',\n",
       " '/home/sieon/Desktop/VIT/data/data/test_target.npy',\n",
       " '/home/sieon/Desktop/VIT/data/data/train_data.npy',\n",
       " '/home/sieon/Desktop/VIT/data/data/train_target.npy']"
      ]
     },
     "execution_count": 1,
     "metadata": {},
     "output_type": "execute_result"
    }
   ],
   "source": [
    "# import gdown\n",
    "\n",
    "# url = \"https://drive.google.com/drive/folders/1wEnwMeJoQZwJhI7oBRah3I8QX-FpLMYD\"\n",
    "# gdown.download_folder(url, quiet=True, use_cookies=False)"
   ]
  },
  {
   "cell_type": "markdown",
   "metadata": {},
   "source": [
    "Import Modules"
   ]
  },
  {
   "cell_type": "code",
   "execution_count": 2,
   "metadata": {},
   "outputs": [],
   "source": [
    "# !pip install omegaconf"
   ]
  },
  {
   "cell_type": "code",
   "execution_count": 3,
   "metadata": {},
   "outputs": [
    {
     "name": "stdout",
     "output_type": "stream",
     "text": [
      "['train_target.npy', 'test_data.npy', 'train_data.npy', 'test_target.npy']\n"
     ]
    }
   ],
   "source": [
    "import os\n",
    "print(os.listdir(\"data\"))"
   ]
  },
  {
   "cell_type": "markdown",
   "metadata": {},
   "source": [
    "Datasets"
   ]
  },
  {
   "cell_type": "code",
   "execution_count": 5,
   "metadata": {},
   "outputs": [],
   "source": [
    "import numpy as np\n",
    "\n",
    "# 파일 경로\n",
    "data_folder = \"data\"  # gdown으로 다운로드된 데이터 폴더 경로\n",
    "test_data_path = f\"{data_folder}/test_data.npy\"\n",
    "test_target_path = f\"{data_folder}/test_target.npy\"\n",
    "train_data_path = f\"{data_folder}/train_data.npy\"\n",
    "train_target_path = f\"{data_folder}/train_target.npy\"\n",
    "\n",
    "# 데이터 로드\n",
    "test_data = np.load(test_data_path)\n",
    "test_target = np.load(test_target_path)\n",
    "train_data = np.load(train_data_path)\n",
    "train_target = np.load(train_target_path)"
   ]
  },
  {
   "cell_type": "markdown",
   "metadata": {},
   "source": [
    "# EDA"
   ]
  },
  {
   "cell_type": "markdown",
   "metadata": {},
   "source": [
    "### 1. 데이터 구조 확인"
   ]
  },
  {
   "cell_type": "code",
   "execution_count": 6,
   "metadata": {},
   "outputs": [
    {
     "name": "stdout",
     "output_type": "stream",
     "text": [
      "test_data shape: (10000, 32, 32, 3)\n",
      "test_target shape: (10000,)\n",
      "train_data shape: (20431, 32, 32, 3)\n",
      "train_target shape: (20431,)\n",
      "Train Data Type: uint8\n",
      "Train Target Type: int64\n",
      "\n",
      "Train Data Sample:\n",
      " [[[[183 183 183]\n",
      "   [178 178 178]\n",
      "   [178 178 178]\n",
      "   ...\n",
      "   [167 167 167]\n",
      "   [166 166 166]\n",
      "   [166 166 166]]\n",
      "\n",
      "  [[184 184 184]\n",
      "   [179 179 179]\n",
      "   [179 179 179]\n",
      "   ...\n",
      "   [169 169 169]\n",
      "   [167 167 167]\n",
      "   [167 167 167]]\n",
      "\n",
      "  [[189 189 189]\n",
      "   [183 183 183]\n",
      "   [184 184 184]\n",
      "   ...\n",
      "   [171 171 171]\n",
      "   [169 169 169]\n",
      "   [167 167 167]]\n",
      "\n",
      "  ...\n",
      "\n",
      "  [[184 184 184]\n",
      "   [168 168 168]\n",
      "   [171 171 171]\n",
      "   ...\n",
      "   [175 175 175]\n",
      "   [174 174 174]\n",
      "   [173 173 173]]\n",
      "\n",
      "  [[180 180 180]\n",
      "   [113 113 113]\n",
      "   [135 135 135]\n",
      "   ...\n",
      "   [162 162 162]\n",
      "   [160 160 160]\n",
      "   [160 160 160]]\n",
      "\n",
      "  [[160 160 160]\n",
      "   [ 73  73  73]\n",
      "   [ 92  92  92]\n",
      "   ...\n",
      "   [151 151 151]\n",
      "   [149 149 149]\n",
      "   [148 148 148]]]\n",
      "\n",
      "\n",
      " [[[255 255 246]\n",
      "   [255 255 244]\n",
      "   [255 255 246]\n",
      "   ...\n",
      "   [255 255 255]\n",
      "   [255 255 255]\n",
      "   [255 255 255]]\n",
      "\n",
      "  [[255 254 242]\n",
      "   [254 252 240]\n",
      "   [254 253 242]\n",
      "   ...\n",
      "   [255 255 255]\n",
      "   [254 254 254]\n",
      "   [255 255 255]]\n",
      "\n",
      "  [[255 255 244]\n",
      "   [255 254 241]\n",
      "   [255 254 243]\n",
      "   ...\n",
      "   [255 255 255]\n",
      "   [255 255 255]\n",
      "   [255 255 255]]\n",
      "\n",
      "  ...\n",
      "\n",
      "  [[255 255 253]\n",
      "   [255 255 251]\n",
      "   [255 255 251]\n",
      "   ...\n",
      "   [254 255 252]\n",
      "   [255 255 252]\n",
      "   [255 255 255]]\n",
      "\n",
      "  [[255 255 253]\n",
      "   [254 254 250]\n",
      "   [255 255 251]\n",
      "   ...\n",
      "   [254 254 249]\n",
      "   [254 254 250]\n",
      "   [255 255 252]]\n",
      "\n",
      "  [[255 255 255]\n",
      "   [255 255 255]\n",
      "   [255 255 255]\n",
      "   ...\n",
      "   [255 255 254]\n",
      "   [255 255 255]\n",
      "   [255 255 255]]]]\n",
      "\n",
      "Train Target Sample: [0 0]\n",
      "\n",
      "Test Data Sample:\n",
      " [[[[158 112  49]\n",
      "   [159 111  47]\n",
      "   [165 116  51]\n",
      "   ...\n",
      "   [137  95  36]\n",
      "   [126  91  36]\n",
      "   [116  85  33]]\n",
      "\n",
      "  [[152 112  51]\n",
      "   [151 110  40]\n",
      "   [159 114  45]\n",
      "   ...\n",
      "   [136  95  31]\n",
      "   [125  91  32]\n",
      "   [119  88  34]]\n",
      "\n",
      "  [[151 110  47]\n",
      "   [151 109  33]\n",
      "   [158 111  36]\n",
      "   ...\n",
      "   [139  98  34]\n",
      "   [130  95  34]\n",
      "   [120  89  33]]\n",
      "\n",
      "  ...\n",
      "\n",
      "  [[ 68 124 177]\n",
      "   [ 42 100 148]\n",
      "   [ 31  88 137]\n",
      "   ...\n",
      "   [ 38  97 146]\n",
      "   [ 13  64 108]\n",
      "   [ 40  85 127]]\n",
      "\n",
      "  [[ 61 116 168]\n",
      "   [ 49 102 148]\n",
      "   [ 35  85 132]\n",
      "   ...\n",
      "   [ 26  82 130]\n",
      "   [ 29  82 126]\n",
      "   [ 20  64 107]]\n",
      "\n",
      "  [[ 54 107 160]\n",
      "   [ 56 105 149]\n",
      "   [ 45  89 132]\n",
      "   ...\n",
      "   [ 24  77 124]\n",
      "   [ 34  84 129]\n",
      "   [ 21  67 110]]]\n",
      "\n",
      "\n",
      " [[[235 235 235]\n",
      "   [231 231 231]\n",
      "   [232 232 232]\n",
      "   ...\n",
      "   [233 233 233]\n",
      "   [233 233 233]\n",
      "   [232 232 232]]\n",
      "\n",
      "  [[238 238 238]\n",
      "   [235 235 235]\n",
      "   [235 235 235]\n",
      "   ...\n",
      "   [236 236 236]\n",
      "   [236 236 236]\n",
      "   [235 235 235]]\n",
      "\n",
      "  [[237 237 237]\n",
      "   [234 234 234]\n",
      "   [234 234 234]\n",
      "   ...\n",
      "   [235 235 235]\n",
      "   [235 235 235]\n",
      "   [234 234 234]]\n",
      "\n",
      "  ...\n",
      "\n",
      "  [[ 87  99  89]\n",
      "   [ 43  51  37]\n",
      "   [ 19  23  11]\n",
      "   ...\n",
      "   [169 184 179]\n",
      "   [182 197 193]\n",
      "   [188 202 201]]\n",
      "\n",
      "  [[ 82  96  82]\n",
      "   [ 46  57  36]\n",
      "   [ 36  44  22]\n",
      "   ...\n",
      "   [174 189 183]\n",
      "   [185 200 196]\n",
      "   [187 202 200]]\n",
      "\n",
      "  [[ 85 101  83]\n",
      "   [ 62  75  48]\n",
      "   [ 58  67  38]\n",
      "   ...\n",
      "   [168 183 178]\n",
      "   [180 195 191]\n",
      "   [186 200 199]]]]\n",
      "\n",
      "Test Target Sample: [3 8]\n"
     ]
    }
   ],
   "source": [
    "# 데이터 구조와 크기 확인\n",
    "print(\"test_data shape:\", test_data.shape)\n",
    "print(\"test_target shape:\", test_target.shape)\n",
    "print(\"train_data shape:\", train_data.shape)\n",
    "print(\"train_target shape:\", train_target.shape)\n",
    "\n",
    "# 데이터 타입 확인\n",
    "print(\"Train Data Type:\", train_data.dtype)\n",
    "print(\"Train Target Type:\", train_target.dtype)\n",
    "\n",
    "# 샘플 확인\n",
    "print(\"\\nTrain Data Sample:\\n\", train_data[:2])\n",
    "print(\"\\nTrain Target Sample:\", train_target[:2])\n",
    "print(\"\\nTest Data Sample:\\n\", test_data[:2])\n",
    "print(\"\\nTest Target Sample:\", test_target[:2])"
   ]
  },
  {
   "cell_type": "code",
   "execution_count": 14,
   "metadata": {},
   "outputs": [
    {
     "data": {
      "text/plain": [
       "<matplotlib.image.AxesImage at 0x7f980fdf3f10>"
      ]
     },
     "execution_count": 14,
     "metadata": {},
     "output_type": "execute_result"
    },
    {
     "data": {
      "image/png": "[encoded data removed]",
      "text/plain": [
       "<Figure size 432x288 with 1 Axes>"
      ]
     },
     "metadata": {
      "needs_background": "light"
     },
     "output_type": "display_data"
    }
   ],
   "source": [
    "%matplotlib inline\n",
    "import matplotlib.pyplot as plt\n",
    "import seaborn as sns\n",
    "\n",
    "plt.imshow(test_data[4])"
   ]
  },
  {
   "cell_type": "markdown",
   "metadata": {},
   "source": [
    "### 2. 데이터 분포 및 통계"
   ]
  },
  {
   "cell_type": "code",
   "execution_count": 17,
   "metadata": {},
   "outputs": [
    {
     "name": "stdout",
     "output_type": "stream",
     "text": [
      "Train Target Classes: [0 1 2 3 4 5 6 7 8 9]\n",
      "Train Target Class Counts: [5000 3871 2997 2320 1796 1391 1077  834  645  500]\n",
      "Test Target Classes: [0 1 2 3 4 5 6 7 8 9]\n",
      "Test Target Class Counts: [1000 1000 1000 1000 1000 1000 1000 1000 1000 1000]\n"
     ]
    }
   ],
   "source": [
    "import numpy as np\n",
    "\n",
    "# Train 타겟 클래스 확인\n",
    "train_classes, train_counts = np.unique(train_target, return_counts=True)\n",
    "print(\"Train Target Classes:\", train_classes)\n",
    "print(\"Train Target Class Counts:\", train_counts)\n",
    "\n",
    "# Test 타겟 클래스 확인\n",
    "test_classes, test_counts = np.unique(test_target, return_counts=True)\n",
    "print(\"Test Target Classes:\", test_classes)\n",
    "print(\"Test Target Class Counts:\", test_counts)\n"
   ]
  },
  {
   "cell_type": "code",
   "execution_count": 21,
   "metadata": {},
   "outputs": [
    {
     "data": {
      "image/png": "[encoded data removed]",
      "text/plain": [
       "<Figure size 864x360 with 2 Axes>"
      ]
     },
     "metadata": {
      "needs_background": "light"
     },
     "output_type": "display_data"
    }
   ],
   "source": [
    "\n",
    "\n",
    "# Train 타겟 분포 시각화\n",
    "plt.figure(figsize=(12, 5))\n",
    "\n",
    "plt.subplot(1, 2, 1)\n",
    "sns.histplot(train_target, bins=10)\n",
    "plt.title(\"Train Target Distribution\")\n",
    "plt.xlabel(\"Target Value\")\n",
    "plt.ylabel(\"Frequency\")\n",
    "\n",
    "# Test 타겟 분포 시각화\n",
    "plt.subplot(1, 2, 2)\n",
    "sns.histplot(test_target, bins=10)\n",
    "plt.title(\"Test Target Distribution\")\n",
    "plt.xlabel(\"Target Value\")\n",
    "plt.ylabel(\"Frequency\")\n",
    "\n",
    "plt.show()\n",
    "\n"
   ]
  },
  {
   "cell_type": "markdown",
   "metadata": {},
   "source": [
    "### 3. 결측치 및 이상치 확인"
   ]
  },
  {
   "cell_type": "code",
   "execution_count": 15,
   "metadata": {},
   "outputs": [
    {
     "name": "stdout",
     "output_type": "stream",
     "text": [
      "Train Data 결측값: False\n",
      "Test Data 결측값: False\n",
      "Train Target 결측값: False\n",
      "Test Target 결측값: False\n"
     ]
    }
   ],
   "source": [
    "# 결측값 확인\n",
    "print(\"Train Data 결측값:\", np.isnan(train_data).any())\n",
    "print(\"Test Data 결측값:\", np.isnan(test_data).any())\n",
    "print(\"Train Target 결측값:\", np.isnan(train_target).any())\n",
    "print(\"Test Target 결측값:\", np.isnan(test_target).any())"
   ]
  }
 ],
 "metadata": {
  "kernelspec": {
   "display_name": "base",
   "language": "python",
   "name": "python3"
  },
  "language_info": {
   "codemirror_mode": {
    "name": "ipython",
    "version": 3
   },
   "file_extension": ".py",
   "mimetype": "text/x-python",
   "name": "python",
   "nbconvert_exporter": "python",
   "pygments_lexer": "ipython3",
   "version": "3.7.4"
  }
 },
 "nbformat": 4,
 "nbformat_minor": 2
}
